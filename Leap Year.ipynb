{
 "cells": [
  {
   "cell_type": "code",
   "execution_count": 39,
   "metadata": {},
   "outputs": [
    {
     "name": "stdout",
     "output_type": "stream",
     "text": [
      "the year is: 344\n",
      " 344\n",
      "leap year\n"
     ]
    }
   ],
   "source": [
    "year= int(input(\"the year is: \"))\n",
    "\n",
    "if year/100:\n",
    "    print(\"\",year)\n",
    "    if year/400:\n",
    "        print(\"leap year\")\n",
    "    else:\n",
    "        print(\"not leap year\")\n",
    "else:\n",
    "    print(\"\",year)\n",
    "    if year/4:\n",
    "        print(\"leap year\")\n",
    "    else:\n",
    "        print(\"not leap year\")"
   ]
  },
  {
   "cell_type": "code",
   "execution_count": 18,
   "metadata": {},
   "outputs": [
    {
     "name": "stdout",
     "output_type": "stream",
     "text": [
      "number: 1\n",
      "positive\n"
     ]
    }
   ],
   "source": [
    "num= int(input(\"number: \"))\n",
    "if num>0:\n",
    "    print(\"positive\")\n",
    "else:\n",
    "    print(\"negative\")"
   ]
  }
 ],
 "metadata": {
  "kernelspec": {
   "display_name": "Python 3",
   "language": "python",
   "name": "python3"
  },
  "language_info": {
   "codemirror_mode": {
    "name": "ipython",
    "version": 3
   },
   "file_extension": ".py",
   "mimetype": "text/x-python",
   "name": "python",
   "nbconvert_exporter": "python",
   "pygments_lexer": "ipython3",
   "version": "3.7.6"
  }
 },
 "nbformat": 4,
 "nbformat_minor": 4
}
