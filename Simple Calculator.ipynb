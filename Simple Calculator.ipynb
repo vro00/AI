{
 "cells": [
  {
   "cell_type": "code",
   "execution_count": 1,
   "metadata": {},
   "outputs": [
    {
     "name": "stdout",
     "output_type": "stream",
     "text": [
      "SIMPLE CALCULATOR\n",
      "Select operation:\n",
      "1.Addition\n",
      "2.Subtraction\n",
      "3.Multiplication\n",
      "4.Division\n",
      "5.Modulo Division\n",
      "Enter choice: 3\n",
      "Enter first number: 5\n",
      "Enter second number: 8\n",
      "5.0 * 8.0 = 40.0\n"
     ]
    }
   ],
   "source": [
    "#21_Vanshit_Lath\n",
    "#program for simple calculator\n",
    "def add(num1, num2): \n",
    "    return num1 + num2\n",
    "def sub(num1, num2): \n",
    "    return num1 - num2 \n",
    "def multi(num1, num2): \n",
    "    return num1 * num2 \n",
    "def div(num1, num2): \n",
    "    return num1 / num2\n",
    "def mod(num1, num2):\n",
    "    return num1 % num2\n",
    "print(\"SIMPLE CALCULATOR\")\n",
    "print(\"Select operation:\")\n",
    "print(\"1.Addition\")\n",
    "print(\"2.Subtraction\")\n",
    "print(\"3.Multiplication\")\n",
    "print(\"4.Division\")\n",
    "print(\"5.Modulo Division\")\n",
    "choice = input(\"Enter choice: \")\n",
    "num1 = float(input(\"Enter first number: \"))\n",
    "num2 = float(input(\"Enter second number: \"))\n",
    "if choice == '1':\n",
    "        print(num1, \"+\", num2, \"=\", add(num1, num2))\n",
    "elif choice == '2':\n",
    "        print(num1, \"-\", num2, \"=\", sub(num1, num2))\n",
    "elif choice == '3':\n",
    "        print(num1, \"*\", num2, \"=\", multi(num1, num2))\n",
    "elif choice == '4':\n",
    "        print(num1, \"/\", num2, \"=\", div(num1, num2))\n",
    "elif choice == '5':\n",
    "        print(num1, \"%\", num2, \"=\", mod(num1, num2))\n",
    "else:\n",
    "        print(\"Invalid Input\")"
   ]
  },
  {
   "cell_type": "code",
   "execution_count": null,
   "metadata": {},
   "outputs": [],
   "source": []
  }
 ],
 "metadata": {
  "kernelspec": {
   "display_name": "Python 3",
   "language": "python",
   "name": "python3"
  },
  "language_info": {
   "codemirror_mode": {
    "name": "ipython",
    "version": 3
   },
   "file_extension": ".py",
   "mimetype": "text/x-python",
   "name": "python",
   "nbconvert_exporter": "python",
   "pygments_lexer": "ipython3",
   "version": "3.7.6"
  }
 },
 "nbformat": 4,
 "nbformat_minor": 4
}
